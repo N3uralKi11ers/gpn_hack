{
 "cells": [
  {
   "cell_type": "code",
   "execution_count": 8,
   "metadata": {},
   "outputs": [],
   "source": [
    "import pandas as pd\n",
    "from sklearn.preprocessing import LabelEncoder"
   ]
  },
  {
   "cell_type": "code",
   "execution_count": 26,
   "metadata": {},
   "outputs": [],
   "source": [
    "df = pd.read_parquet('../data/end_df.parquet')"
   ]
  },
  {
   "cell_type": "code",
   "execution_count": 27,
   "metadata": {},
   "outputs": [],
   "source": [
    "LE = {'place': LabelEncoder(), 'product': LabelEncoder()}\n",
    "df['place'] = LE['place'].fit_transform(df['place'])\n",
    "df['product'] = LE['product'].fit_transform(df['product'])"
   ]
  },
  {
   "cell_type": "code",
   "execution_count": 28,
   "metadata": {},
   "outputs": [
    {
     "data": {
      "text/plain": [
       "place            -0.197688\n",
       "product           0.050665\n",
       "Our_company       1.000000\n",
       "cost              0.861602\n",
       "Арториас&Co       0.963828\n",
       "Длань господня    0.934589\n",
       "ЛилIT             0.934168\n",
       "Светлые Души      0.928461\n",
       "hot              -0.010395\n",
       "rain              0.012648\n",
       "snow             -0.006228\n",
       "amount           -0.280229\n",
       "year              0.476824\n",
       "month             0.093947\n",
       "day               0.011357\n",
       "Name: Our_company, dtype: float64"
      ]
     },
     "execution_count": 28,
     "metadata": {},
     "output_type": "execute_result"
    }
   ],
   "source": [
    "df.corr(numeric_only=True, method='pearson')['Our_company']"
   ]
  },
  {
   "cell_type": "code",
   "execution_count": 30,
   "metadata": {},
   "outputs": [
    {
     "name": "stdout",
     "output_type": "stream",
     "text": [
      "<class 'pandas.core.frame.DataFrame'>\n",
      "RangeIndex: 15000 entries, 0 to 14999\n",
      "Data columns (total 15 columns):\n",
      " #   Column          Non-Null Count  Dtype  \n",
      "---  ------          --------------  -----  \n",
      " 0   place           15000 non-null  int64  \n",
      " 1   product         15000 non-null  int64  \n",
      " 2   Our_company     15000 non-null  float64\n",
      " 3   cost            15000 non-null  float64\n",
      " 4   Арториас&Co     15000 non-null  float64\n",
      " 5   Длань господня  15000 non-null  float64\n",
      " 6   ЛилIT           15000 non-null  float64\n",
      " 7   Светлые Души    15000 non-null  float64\n",
      " 8   hot             15000 non-null  float64\n",
      " 9   rain            15000 non-null  float64\n",
      " 10  snow            15000 non-null  float64\n",
      " 11  amount          15000 non-null  float64\n",
      " 12  year            15000 non-null  int64  \n",
      " 13  month           15000 non-null  int64  \n",
      " 14  day             15000 non-null  int64  \n",
      "dtypes: float64(10), int64(5)\n",
      "memory usage: 1.7 MB\n"
     ]
    }
   ],
   "source": [
    "df.info()"
   ]
  }
 ],
 "metadata": {
  "kernelspec": {
   "display_name": "Python 3",
   "language": "python",
   "name": "python3"
  },
  "language_info": {
   "codemirror_mode": {
    "name": "ipython",
    "version": 3
   },
   "file_extension": ".py",
   "mimetype": "text/x-python",
   "name": "python",
   "nbconvert_exporter": "python",
   "pygments_lexer": "ipython3",
   "version": "3.10.12"
  }
 },
 "nbformat": 4,
 "nbformat_minor": 2
}
