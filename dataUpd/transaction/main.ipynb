{
 "cells": [
  {
   "cell_type": "code",
   "execution_count": 47,
   "metadata": {},
   "outputs": [],
   "source": [
    "import pandas as pd\n",
    "import matplotlib.pyplot as plt\n",
    "from sklearn.preprocessing import LabelEncoder\n",
    "from sklearn.neighbors import KNeighborsRegressor\n",
    "from tqdm import tqdm"
   ]
  },
  {
   "cell_type": "code",
   "execution_count": 2,
   "metadata": {},
   "outputs": [],
   "source": [
    "df_trans = pd.read_parquet(\"../../data/transaction_df.parquet\")"
   ]
  },
  {
   "cell_type": "code",
   "execution_count": 3,
   "metadata": {},
   "outputs": [
    {
     "data": {
      "text/html": [
       "<div>\n",
       "<style scoped>\n",
       "    .dataframe tbody tr th:only-of-type {\n",
       "        vertical-align: middle;\n",
       "    }\n",
       "\n",
       "    .dataframe tbody tr th {\n",
       "        vertical-align: top;\n",
       "    }\n",
       "\n",
       "    .dataframe thead th {\n",
       "        text-align: right;\n",
       "    }\n",
       "</style>\n",
       "<table border=\"1\" class=\"dataframe\">\n",
       "  <thead>\n",
       "    <tr style=\"text-align: right;\">\n",
       "      <th></th>\n",
       "      <th>product</th>\n",
       "      <th>price</th>\n",
       "      <th>amount</th>\n",
       "      <th>place</th>\n",
       "      <th>datetime</th>\n",
       "    </tr>\n",
       "  </thead>\n",
       "  <tbody>\n",
       "    <tr>\n",
       "      <th>0</th>\n",
       "      <td>Целебные травы</td>\n",
       "      <td>3.90</td>\n",
       "      <td>1.242125</td>\n",
       "      <td>Анор Лондо</td>\n",
       "      <td>2216-01-02 16:28:00</td>\n",
       "    </tr>\n",
       "    <tr>\n",
       "      <th>1</th>\n",
       "      <td>Целебные травы</td>\n",
       "      <td>3.90</td>\n",
       "      <td>-0.079689</td>\n",
       "      <td>Анор Лондо</td>\n",
       "      <td>2216-01-02 16:21:00</td>\n",
       "    </tr>\n",
       "    <tr>\n",
       "      <th>2</th>\n",
       "      <td>Целебные травы</td>\n",
       "      <td>3.90</td>\n",
       "      <td>0.882450</td>\n",
       "      <td>Анор Лондо</td>\n",
       "      <td>2216-01-02 03:03:00</td>\n",
       "    </tr>\n",
       "    <tr>\n",
       "      <th>3</th>\n",
       "      <td>Целебные травы</td>\n",
       "      <td>3.90</td>\n",
       "      <td>0.621377</td>\n",
       "      <td>Анор Лондо</td>\n",
       "      <td>2216-01-02 03:12:00</td>\n",
       "    </tr>\n",
       "    <tr>\n",
       "      <th>4</th>\n",
       "      <td>Целебные травы</td>\n",
       "      <td>3.90</td>\n",
       "      <td>1.367161</td>\n",
       "      <td>Анор Лондо</td>\n",
       "      <td>2216-01-02 05:33:00</td>\n",
       "    </tr>\n",
       "    <tr>\n",
       "      <th>...</th>\n",
       "      <td>...</td>\n",
       "      <td>...</td>\n",
       "      <td>...</td>\n",
       "      <td>...</td>\n",
       "      <td>...</td>\n",
       "    </tr>\n",
       "    <tr>\n",
       "      <th>875031</th>\n",
       "      <td>Эстус</td>\n",
       "      <td>9.28</td>\n",
       "      <td>1.079104</td>\n",
       "      <td>Фалькония</td>\n",
       "      <td>2218-09-27 14:50:00</td>\n",
       "    </tr>\n",
       "    <tr>\n",
       "      <th>875032</th>\n",
       "      <td>Эстус</td>\n",
       "      <td>9.28</td>\n",
       "      <td>1.580617</td>\n",
       "      <td>Фалькония</td>\n",
       "      <td>2218-09-27 06:16:00</td>\n",
       "    </tr>\n",
       "    <tr>\n",
       "      <th>875033</th>\n",
       "      <td>Эстус</td>\n",
       "      <td>9.28</td>\n",
       "      <td>1.738492</td>\n",
       "      <td>Фалькония</td>\n",
       "      <td>2218-09-27 11:14:00</td>\n",
       "    </tr>\n",
       "    <tr>\n",
       "      <th>875034</th>\n",
       "      <td>Эстус</td>\n",
       "      <td>9.28</td>\n",
       "      <td>0.430340</td>\n",
       "      <td>Фалькония</td>\n",
       "      <td>2218-09-27 22:24:00</td>\n",
       "    </tr>\n",
       "    <tr>\n",
       "      <th>875035</th>\n",
       "      <td>Эстус</td>\n",
       "      <td>9.28</td>\n",
       "      <td>0.090248</td>\n",
       "      <td>Фалькония</td>\n",
       "      <td>2218-09-27 17:50:00</td>\n",
       "    </tr>\n",
       "  </tbody>\n",
       "</table>\n",
       "<p>875036 rows × 5 columns</p>\n",
       "</div>"
      ],
      "text/plain": [
       "               product  price    amount       place            datetime\n",
       "0       Целебные травы   3.90  1.242125  Анор Лондо 2216-01-02 16:28:00\n",
       "1       Целебные травы   3.90 -0.079689  Анор Лондо 2216-01-02 16:21:00\n",
       "2       Целебные травы   3.90  0.882450  Анор Лондо 2216-01-02 03:03:00\n",
       "3       Целебные травы   3.90  0.621377  Анор Лондо 2216-01-02 03:12:00\n",
       "4       Целебные травы   3.90  1.367161  Анор Лондо 2216-01-02 05:33:00\n",
       "...                ...    ...       ...         ...                 ...\n",
       "875031           Эстус   9.28  1.079104   Фалькония 2218-09-27 14:50:00\n",
       "875032           Эстус   9.28  1.580617   Фалькония 2218-09-27 06:16:00\n",
       "875033           Эстус   9.28  1.738492   Фалькония 2218-09-27 11:14:00\n",
       "875034           Эстус   9.28  0.430340   Фалькония 2218-09-27 22:24:00\n",
       "875035           Эстус   9.28  0.090248   Фалькония 2218-09-27 17:50:00\n",
       "\n",
       "[875036 rows x 5 columns]"
      ]
     },
     "execution_count": 3,
     "metadata": {},
     "output_type": "execute_result"
    }
   ],
   "source": [
    "df_trans"
   ]
  },
  {
   "cell_type": "code",
   "execution_count": 4,
   "metadata": {},
   "outputs": [],
   "source": [
    "cat_col = [\"place\", \"product\"]\n",
    "num_col = [\"price\", \"amount\"]\n",
    "time_col = [\"datetime\"]"
   ]
  },
  {
   "cell_type": "code",
   "execution_count": 5,
   "metadata": {},
   "outputs": [
    {
     "data": {
      "image/png": "[encoded data removed]",
      "text/plain": [
       "<Figure size 1200x1000 with 4 Axes>"
      ]
     },
     "metadata": {},
     "output_type": "display_data"
    }
   ],
   "source": [
    "fig, axs = plt.subplots(2, len(cat_col), figsize=(6 * len(cat_col), 10))\n",
    "\n",
    "for idx, col in enumerate(cat_col):\n",
    "    value_counts = df_trans[col].value_counts()\n",
    "\n",
    "    axs[0, idx].pie(value_counts, labels=value_counts.index, autopct='%1.1f%%', startangle=90)\n",
    "    axs[0, idx].set_title(f'Круговая диаграмма для {col}')\n",
    "\n",
    "    axs[1, idx].bar(value_counts.index, value_counts.values)\n",
    "    axs[1, idx].set_title(f'Столбчатая диаграмма для {col}')\n",
    "    axs[1, idx].set_ylabel('Количество')\n",
    "\n",
    "    if idx == 0 or idx == len(cat_col) - 1:\n",
    "        axs[1, idx].set_xticks(range(len(value_counts.index)))\n",
    "        axs[1, idx].set_xticklabels(value_counts.index, rotation=45)\n",
    "\n",
    "plt.tight_layout()\n",
    "plt.show()"
   ]
  },
  {
   "cell_type": "code",
   "execution_count": 6,
   "metadata": {},
   "outputs": [
    {
     "data": {
      "image/png": "[encoded data removed]",
      "text/plain": [
       "<Figure size 640x480 with 1 Axes>"
      ]
     },
     "metadata": {},
     "output_type": "display_data"
    },
    {
     "data": {
      "image/png": "[encoded data removed]",
      "text/plain": [
       "<Figure size 640x480 with 1 Axes>"
      ]
     },
     "metadata": {},
     "output_type": "display_data"
    }
   ],
   "source": [
    "fig, ax = plt.subplots()\n",
    "for col in num_col:\n",
    "    plt.boxplot(df_trans[col], patch_artist=True)\n",
    "    plt.title(f'Boxplot for {col}')\n",
    "    plt.show()"
   ]
  },
  {
   "cell_type": "code",
   "execution_count": 7,
   "metadata": {},
   "outputs": [
    {
     "data": {
      "image/png": "[encoded data removed]",
      "text/plain": [
       "<Figure size 1700x1000 with 1 Axes>"
      ]
     },
     "metadata": {},
     "output_type": "display_data"
    }
   ],
   "source": [
    "plt.figure(figsize=(17, 10))\n",
    "value_counts = df_trans['datetime'].dt.normalize().value_counts().sort_index()\n",
    "\n",
    "plt.bar(value_counts.index, value_counts.values)\n",
    "plt.title(f'Столбчатая диаграмма для дат')\n",
    "plt.ylabel('Количество')\n",
    "plt.xlabel('Дата')\n",
    "plt.xticks(rotation=45)\n",
    "plt.tight_layout()\n",
    "plt.show()"
   ]
  },
  {
   "cell_type": "code",
   "execution_count": 8,
   "metadata": {},
   "outputs": [
    {
     "name": "stdout",
     "output_type": "stream",
     "text": [
      "<class 'pandas.core.frame.DataFrame'>\n",
      "RangeIndex: 875036 entries, 0 to 875035\n",
      "Data columns (total 5 columns):\n",
      " #   Column    Non-Null Count   Dtype         \n",
      "---  ------    --------------   -----         \n",
      " 0   product   875036 non-null  object        \n",
      " 1   price     875036 non-null  float64       \n",
      " 2   amount    875036 non-null  float64       \n",
      " 3   place     874604 non-null  object        \n",
      " 4   datetime  875036 non-null  datetime64[us]\n",
      "dtypes: datetime64[us](1), float64(2), object(2)\n",
      "memory usage: 33.4+ MB\n"
     ]
    }
   ],
   "source": [
    "df_trans.info()"
   ]
  },
  {
   "cell_type": "markdown",
   "metadata": {},
   "source": [
    "как видим, только беды с amount, price и place, исправим"
   ]
  },
  {
   "cell_type": "code",
   "execution_count": 9,
   "metadata": {},
   "outputs": [
    {
     "data": {
      "text/html": [
       "<div>\n",
       "<style scoped>\n",
       "    .dataframe tbody tr th:only-of-type {\n",
       "        vertical-align: middle;\n",
       "    }\n",
       "\n",
       "    .dataframe tbody tr th {\n",
       "        vertical-align: top;\n",
       "    }\n",
       "\n",
       "    .dataframe thead th {\n",
       "        text-align: right;\n",
       "    }\n",
       "</style>\n",
       "<table border=\"1\" class=\"dataframe\">\n",
       "  <thead>\n",
       "    <tr style=\"text-align: right;\">\n",
       "      <th></th>\n",
       "      <th>product</th>\n",
       "      <th>price</th>\n",
       "      <th>amount</th>\n",
       "      <th>place</th>\n",
       "      <th>datetime</th>\n",
       "    </tr>\n",
       "  </thead>\n",
       "  <tbody>\n",
       "    <tr>\n",
       "      <th>0</th>\n",
       "      <td>Целебные травы</td>\n",
       "      <td>3.9</td>\n",
       "      <td>1.242125</td>\n",
       "      <td>Анор Лондо</td>\n",
       "      <td>2216-01-02 16:28:00</td>\n",
       "    </tr>\n",
       "    <tr>\n",
       "      <th>1</th>\n",
       "      <td>Целебные травы</td>\n",
       "      <td>3.9</td>\n",
       "      <td>-0.079689</td>\n",
       "      <td>Анор Лондо</td>\n",
       "      <td>2216-01-02 16:21:00</td>\n",
       "    </tr>\n",
       "    <tr>\n",
       "      <th>2</th>\n",
       "      <td>Целебные травы</td>\n",
       "      <td>3.9</td>\n",
       "      <td>0.882450</td>\n",
       "      <td>Анор Лондо</td>\n",
       "      <td>2216-01-02 03:03:00</td>\n",
       "    </tr>\n",
       "    <tr>\n",
       "      <th>3</th>\n",
       "      <td>Целебные травы</td>\n",
       "      <td>3.9</td>\n",
       "      <td>0.621377</td>\n",
       "      <td>Анор Лондо</td>\n",
       "      <td>2216-01-02 03:12:00</td>\n",
       "    </tr>\n",
       "    <tr>\n",
       "      <th>4</th>\n",
       "      <td>Целебные травы</td>\n",
       "      <td>3.9</td>\n",
       "      <td>1.367161</td>\n",
       "      <td>Анор Лондо</td>\n",
       "      <td>2216-01-02 05:33:00</td>\n",
       "    </tr>\n",
       "  </tbody>\n",
       "</table>\n",
       "</div>"
      ],
      "text/plain": [
       "          product  price    amount       place            datetime\n",
       "0  Целебные травы    3.9  1.242125  Анор Лондо 2216-01-02 16:28:00\n",
       "1  Целебные травы    3.9 -0.079689  Анор Лондо 2216-01-02 16:21:00\n",
       "2  Целебные травы    3.9  0.882450  Анор Лондо 2216-01-02 03:03:00\n",
       "3  Целебные травы    3.9  0.621377  Анор Лондо 2216-01-02 03:12:00\n",
       "4  Целебные травы    3.9  1.367161  Анор Лондо 2216-01-02 05:33:00"
      ]
     },
     "execution_count": 9,
     "metadata": {},
     "output_type": "execute_result"
    }
   ],
   "source": [
    "df_trans.head()"
   ]
  },
  {
   "cell_type": "code",
   "execution_count": 10,
   "metadata": {},
   "outputs": [],
   "source": [
    "df_up = df_trans.loc[~df_trans[\"place\"].isna(), [\"product\", \"price\", \"place\", \"datetime\"]].copy()"
   ]
  },
  {
   "cell_type": "code",
   "execution_count": 11,
   "metadata": {},
   "outputs": [
    {
     "data": {
      "text/html": [
       "<div>\n",
       "<style scoped>\n",
       "    .dataframe tbody tr th:only-of-type {\n",
       "        vertical-align: middle;\n",
       "    }\n",
       "\n",
       "    .dataframe tbody tr th {\n",
       "        vertical-align: top;\n",
       "    }\n",
       "\n",
       "    .dataframe thead th {\n",
       "        text-align: right;\n",
       "    }\n",
       "</style>\n",
       "<table border=\"1\" class=\"dataframe\">\n",
       "  <thead>\n",
       "    <tr style=\"text-align: right;\">\n",
       "      <th></th>\n",
       "      <th>product</th>\n",
       "      <th>price</th>\n",
       "      <th>place</th>\n",
       "      <th>datetime</th>\n",
       "    </tr>\n",
       "  </thead>\n",
       "  <tbody>\n",
       "    <tr>\n",
       "      <th>0</th>\n",
       "      <td>Целебные травы</td>\n",
       "      <td>3.9</td>\n",
       "      <td>Анор Лондо</td>\n",
       "      <td>2216-01-02 16:28:00</td>\n",
       "    </tr>\n",
       "    <tr>\n",
       "      <th>1</th>\n",
       "      <td>Целебные травы</td>\n",
       "      <td>3.9</td>\n",
       "      <td>Анор Лондо</td>\n",
       "      <td>2216-01-02 16:21:00</td>\n",
       "    </tr>\n",
       "    <tr>\n",
       "      <th>2</th>\n",
       "      <td>Целебные травы</td>\n",
       "      <td>3.9</td>\n",
       "      <td>Анор Лондо</td>\n",
       "      <td>2216-01-02 03:03:00</td>\n",
       "    </tr>\n",
       "    <tr>\n",
       "      <th>3</th>\n",
       "      <td>Целебные травы</td>\n",
       "      <td>3.9</td>\n",
       "      <td>Анор Лондо</td>\n",
       "      <td>2216-01-02 03:12:00</td>\n",
       "    </tr>\n",
       "    <tr>\n",
       "      <th>4</th>\n",
       "      <td>Целебные травы</td>\n",
       "      <td>3.9</td>\n",
       "      <td>Анор Лондо</td>\n",
       "      <td>2216-01-02 05:33:00</td>\n",
       "    </tr>\n",
       "  </tbody>\n",
       "</table>\n",
       "</div>"
      ],
      "text/plain": [
       "          product  price       place            datetime\n",
       "0  Целебные травы    3.9  Анор Лондо 2216-01-02 16:28:00\n",
       "1  Целебные травы    3.9  Анор Лондо 2216-01-02 16:21:00\n",
       "2  Целебные травы    3.9  Анор Лондо 2216-01-02 03:03:00\n",
       "3  Целебные травы    3.9  Анор Лондо 2216-01-02 03:12:00\n",
       "4  Целебные травы    3.9  Анор Лондо 2216-01-02 05:33:00"
      ]
     },
     "execution_count": 11,
     "metadata": {},
     "output_type": "execute_result"
    }
   ],
   "source": [
    "df_up.head()"
   ]
  },
  {
   "cell_type": "code",
   "execution_count": 17,
   "metadata": {},
   "outputs": [],
   "source": [
    "df_error = df_up[df_up[\"price\"] <= 0]\n",
    "df_not_error = df_up[df_up[\"price\"] > 0]"
   ]
  },
  {
   "cell_type": "code",
   "execution_count": 19,
   "metadata": {},
   "outputs": [
    {
     "data": {
      "text/html": [
       "<div>\n",
       "<style scoped>\n",
       "    .dataframe tbody tr th:only-of-type {\n",
       "        vertical-align: middle;\n",
       "    }\n",
       "\n",
       "    .dataframe tbody tr th {\n",
       "        vertical-align: top;\n",
       "    }\n",
       "\n",
       "    .dataframe thead th {\n",
       "        text-align: right;\n",
       "    }\n",
       "</style>\n",
       "<table border=\"1\" class=\"dataframe\">\n",
       "  <thead>\n",
       "    <tr style=\"text-align: right;\">\n",
       "      <th></th>\n",
       "      <th>product</th>\n",
       "      <th>price</th>\n",
       "      <th>place</th>\n",
       "      <th>datetime</th>\n",
       "    </tr>\n",
       "  </thead>\n",
       "  <tbody>\n",
       "    <tr>\n",
       "      <th>5</th>\n",
       "      <td>Целебные травы</td>\n",
       "      <td>-7154.53</td>\n",
       "      <td>Анор Лондо</td>\n",
       "      <td>2216-01-02 13:57:00</td>\n",
       "    </tr>\n",
       "    <tr>\n",
       "      <th>40</th>\n",
       "      <td>Целебные травы</td>\n",
       "      <td>-8870.90</td>\n",
       "      <td>Анор Лондо</td>\n",
       "      <td>2216-01-02 16:02:00</td>\n",
       "    </tr>\n",
       "    <tr>\n",
       "      <th>55</th>\n",
       "      <td>Эльфийская пыльца</td>\n",
       "      <td>-1263.59</td>\n",
       "      <td>Анор Лондо</td>\n",
       "      <td>2216-01-02 05:26:00</td>\n",
       "    </tr>\n",
       "    <tr>\n",
       "      <th>58</th>\n",
       "      <td>Эльфийская пыльца</td>\n",
       "      <td>-1602.39</td>\n",
       "      <td>Анор Лондо</td>\n",
       "      <td>2216-01-02 18:44:00</td>\n",
       "    </tr>\n",
       "    <tr>\n",
       "      <th>93</th>\n",
       "      <td>Эльфийская пыльца</td>\n",
       "      <td>-8947.87</td>\n",
       "      <td>Анор Лондо</td>\n",
       "      <td>2216-01-02 05:26:00</td>\n",
       "    </tr>\n",
       "  </tbody>\n",
       "</table>\n",
       "</div>"
      ],
      "text/plain": [
       "              product    price       place            datetime\n",
       "5      Целебные травы -7154.53  Анор Лондо 2216-01-02 13:57:00\n",
       "40     Целебные травы -8870.90  Анор Лондо 2216-01-02 16:02:00\n",
       "55  Эльфийская пыльца -1263.59  Анор Лондо 2216-01-02 05:26:00\n",
       "58  Эльфийская пыльца -1602.39  Анор Лондо 2216-01-02 18:44:00\n",
       "93  Эльфийская пыльца -8947.87  Анор Лондо 2216-01-02 05:26:00"
      ]
     },
     "execution_count": 19,
     "metadata": {},
     "output_type": "execute_result"
    }
   ],
   "source": [
    "df_error.head()"
   ]
  },
  {
   "cell_type": "code",
   "execution_count": 31,
   "metadata": {},
   "outputs": [],
   "source": [
    "prod, pric, plac, date = df_error.iloc[0]"
   ]
  },
  {
   "cell_type": "code",
   "execution_count": 32,
   "metadata": {},
   "outputs": [
    {
     "data": {
      "text/plain": [
       "('Целебные травы', -7154.53, 'Анор Лондо', Timestamp('2216-01-02 13:57:00'))"
      ]
     },
     "execution_count": 32,
     "metadata": {},
     "output_type": "execute_result"
    }
   ],
   "source": [
    "prod, pric, plac, date"
   ]
  },
  {
   "cell_type": "code",
   "execution_count": 39,
   "metadata": {},
   "outputs": [
    {
     "data": {
      "text/plain": [
       "Timestamp('2216-01-02 13:57:00')"
      ]
     },
     "execution_count": 39,
     "metadata": {},
     "output_type": "execute_result"
    }
   ],
   "source": [
    "date + pd.Timedelta(days=0)"
   ]
  },
  {
   "cell_type": "markdown",
   "metadata": {},
   "source": [
    "Тк в один и тот же день цена не может измениться, то ее можно дозаполнить известным значением цены в этот день"
   ]
  },
  {
   "cell_type": "code",
   "execution_count": 58,
   "metadata": {},
   "outputs": [
    {
     "name": "stderr",
     "output_type": "stream",
     "text": [
      "100%|██████████| 12/12 [22:55<00:00, 114.61s/it]  \n",
      "/tmp/ipykernel_31402/3429183242.py:31: SettingWithCopyWarning: \n",
      "A value is trying to be set on a copy of a slice from a DataFrame.\n",
      "Try using .loc[row_indexer,col_indexer] = value instead\n",
      "\n",
      "See the caveats in the documentation: https://pandas.pydata.org/pandas-docs/stable/user_guide/indexing.html#returning-a-view-versus-a-copy\n",
      "  df_error['price'] = parallelize_dataframe(df_error, process_chunk, n_cores)\n"
     ]
    }
   ],
   "source": [
    "import pandas as pd\n",
    "import numpy as np\n",
    "from multiprocessing import Pool, cpu_count\n",
    "\n",
    "df_not_error.loc[:, 'date'] = df_not_error['datetime'].dt.strftime('%Y-%m-%d')\n",
    "\n",
    "def fix_price(row):\n",
    "    condition_df = df_not_error[\n",
    "        (df_not_error[\"product\"] == row[\"product\"]) & \n",
    "        (df_not_error[\"place\"] == row[\"place\"]) & \n",
    "        (df_not_error[\"date\"] == row[\"datetime\"].strftime('%Y-%m-%d'))\n",
    "    ][\"price\"]\n",
    "    \n",
    "    if len(condition_df) == 0:\n",
    "        return row[\"price\"]\n",
    "    else:\n",
    "        return condition_df.mode()[0]\n",
    "\n",
    "def process_chunk(chunk):\n",
    "    return chunk.apply(fix_price, axis=1)\n",
    "\n",
    "def parallelize_dataframe(df, func, n_cores):\n",
    "    df_split = np.array_split(df, n_cores)\n",
    "\n",
    "    with Pool(n_cores) as pool:\n",
    "        result = list(tqdm(pool.imap(func, df_split), total=len(df_split)))\n",
    "\n",
    "    return pd.concat(result)\n",
    "\n",
    "n_cores = cpu_count()\n",
    "df_error['price'] = parallelize_dataframe(df_error, process_chunk, n_cores)"
   ]
  },
  {
   "cell_type": "code",
   "execution_count": 61,
   "metadata": {},
   "outputs": [
    {
     "data": {
      "text/html": [
       "<div>\n",
       "<style scoped>\n",
       "    .dataframe tbody tr th:only-of-type {\n",
       "        vertical-align: middle;\n",
       "    }\n",
       "\n",
       "    .dataframe tbody tr th {\n",
       "        vertical-align: top;\n",
       "    }\n",
       "\n",
       "    .dataframe thead th {\n",
       "        text-align: right;\n",
       "    }\n",
       "</style>\n",
       "<table border=\"1\" class=\"dataframe\">\n",
       "  <thead>\n",
       "    <tr style=\"text-align: right;\">\n",
       "      <th></th>\n",
       "      <th>product</th>\n",
       "      <th>price</th>\n",
       "      <th>place</th>\n",
       "      <th>datetime</th>\n",
       "    </tr>\n",
       "  </thead>\n",
       "  <tbody>\n",
       "  </tbody>\n",
       "</table>\n",
       "</div>"
      ],
      "text/plain": [
       "Empty DataFrame\n",
       "Columns: [product, price, place, datetime]\n",
       "Index: []"
      ]
     },
     "execution_count": 61,
     "metadata": {},
     "output_type": "execute_result"
    }
   ],
   "source": [
    "df_error[df_error[\"price\"] <= 0]"
   ]
  },
  {
   "cell_type": "markdown",
   "metadata": {},
   "source": [
    "все ок, отрицательного price yет"
   ]
  },
  {
   "cell_type": "code",
   "execution_count": 64,
   "metadata": {},
   "outputs": [],
   "source": [
    "df_up[df_up[\"price\"] <= 0] = df_error"
   ]
  },
  {
   "cell_type": "code",
   "execution_count": 67,
   "metadata": {},
   "outputs": [],
   "source": [
    "df_trans.loc[~df_trans[\"place\"].isna(), [\"product\", \"price\", \"place\", \"datetime\"]] = df_up"
   ]
  },
  {
   "cell_type": "code",
   "execution_count": 77,
   "metadata": {},
   "outputs": [
    {
     "data": {
      "text/html": [
       "<div>\n",
       "<style scoped>\n",
       "    .dataframe tbody tr th:only-of-type {\n",
       "        vertical-align: middle;\n",
       "    }\n",
       "\n",
       "    .dataframe tbody tr th {\n",
       "        vertical-align: top;\n",
       "    }\n",
       "\n",
       "    .dataframe thead th {\n",
       "        text-align: right;\n",
       "    }\n",
       "</style>\n",
       "<table border=\"1\" class=\"dataframe\">\n",
       "  <thead>\n",
       "    <tr style=\"text-align: right;\">\n",
       "      <th></th>\n",
       "      <th>product</th>\n",
       "      <th>price</th>\n",
       "      <th>amount</th>\n",
       "      <th>place</th>\n",
       "      <th>datetime</th>\n",
       "    </tr>\n",
       "  </thead>\n",
       "  <tbody>\n",
       "    <tr>\n",
       "      <th>8629</th>\n",
       "      <td>Эстус</td>\n",
       "      <td>-6687.99</td>\n",
       "      <td>-0.468309</td>\n",
       "      <td>None</td>\n",
       "      <td>2216-03-03 19:42:00</td>\n",
       "    </tr>\n",
       "    <tr>\n",
       "      <th>31840</th>\n",
       "      <td>Эстус</td>\n",
       "      <td>-4432.76</td>\n",
       "      <td>0.979284</td>\n",
       "      <td>None</td>\n",
       "      <td>2216-07-17 13:02:00</td>\n",
       "    </tr>\n",
       "    <tr>\n",
       "      <th>55313</th>\n",
       "      <td>Целебные травы</td>\n",
       "      <td>-3824.41</td>\n",
       "      <td>0.982179</td>\n",
       "      <td>None</td>\n",
       "      <td>2216-11-10 06:44:00</td>\n",
       "    </tr>\n",
       "    <tr>\n",
       "      <th>69019</th>\n",
       "      <td>Целебные травы</td>\n",
       "      <td>-7870.49</td>\n",
       "      <td>0.667009</td>\n",
       "      <td>None</td>\n",
       "      <td>2217-01-27 22:51:00</td>\n",
       "    </tr>\n",
       "    <tr>\n",
       "      <th>126810</th>\n",
       "      <td>Эстус</td>\n",
       "      <td>-5465.52</td>\n",
       "      <td>1.770178</td>\n",
       "      <td>None</td>\n",
       "      <td>2218-01-15 03:57:00</td>\n",
       "    </tr>\n",
       "    <tr>\n",
       "      <th>142001</th>\n",
       "      <td>Целебные травы</td>\n",
       "      <td>-2325.57</td>\n",
       "      <td>-0.154201</td>\n",
       "      <td>None</td>\n",
       "      <td>2218-04-01 19:46:00</td>\n",
       "    </tr>\n",
       "    <tr>\n",
       "      <th>156708</th>\n",
       "      <td>Эльфийская пыльца</td>\n",
       "      <td>-8389.08</td>\n",
       "      <td>0.039481</td>\n",
       "      <td>None</td>\n",
       "      <td>2218-06-24 04:34:00</td>\n",
       "    </tr>\n",
       "    <tr>\n",
       "      <th>163797</th>\n",
       "      <td>Целебные травы</td>\n",
       "      <td>-9468.47</td>\n",
       "      <td>0.459932</td>\n",
       "      <td>None</td>\n",
       "      <td>2218-08-10 15:22:00</td>\n",
       "    </tr>\n",
       "    <tr>\n",
       "      <th>221136</th>\n",
       "      <td>Эстус</td>\n",
       "      <td>-9503.95</td>\n",
       "      <td>0.840164</td>\n",
       "      <td>None</td>\n",
       "      <td>2216-11-20 23:18:00</td>\n",
       "    </tr>\n",
       "    <tr>\n",
       "      <th>288767</th>\n",
       "      <td>Эльфийская пыльца</td>\n",
       "      <td>-8728.50</td>\n",
       "      <td>0.545281</td>\n",
       "      <td>None</td>\n",
       "      <td>2218-03-20 15:39:00</td>\n",
       "    </tr>\n",
       "    <tr>\n",
       "      <th>314902</th>\n",
       "      <td>Эльфийская пыльца</td>\n",
       "      <td>-7398.48</td>\n",
       "      <td>0.690172</td>\n",
       "      <td>None</td>\n",
       "      <td>2216-01-17 04:56:00</td>\n",
       "    </tr>\n",
       "    <tr>\n",
       "      <th>369181</th>\n",
       "      <td>Целебные травы</td>\n",
       "      <td>-3221.72</td>\n",
       "      <td>0.932496</td>\n",
       "      <td>None</td>\n",
       "      <td>2216-11-01 22:43:00</td>\n",
       "    </tr>\n",
       "    <tr>\n",
       "      <th>372697</th>\n",
       "      <td>Целебные травы</td>\n",
       "      <td>-3934.48</td>\n",
       "      <td>0.168810</td>\n",
       "      <td>None</td>\n",
       "      <td>2216-11-18 22:31:00</td>\n",
       "    </tr>\n",
       "    <tr>\n",
       "      <th>421663</th>\n",
       "      <td>Целебные травы</td>\n",
       "      <td>-4217.20</td>\n",
       "      <td>-0.462452</td>\n",
       "      <td>None</td>\n",
       "      <td>2217-08-29 23:39:00</td>\n",
       "    </tr>\n",
       "    <tr>\n",
       "      <th>480117</th>\n",
       "      <td>Эльфийская пыльца</td>\n",
       "      <td>-4999.36</td>\n",
       "      <td>1.367203</td>\n",
       "      <td>None</td>\n",
       "      <td>2218-06-27 09:29:00</td>\n",
       "    </tr>\n",
       "    <tr>\n",
       "      <th>493127</th>\n",
       "      <td>Эльфийская пыльца</td>\n",
       "      <td>-5112.01</td>\n",
       "      <td>1.317962</td>\n",
       "      <td>None</td>\n",
       "      <td>2218-09-12 17:45:00</td>\n",
       "    </tr>\n",
       "    <tr>\n",
       "      <th>520243</th>\n",
       "      <td>Эстус</td>\n",
       "      <td>-4481.33</td>\n",
       "      <td>0.379223</td>\n",
       "      <td>None</td>\n",
       "      <td>2216-05-16 11:18:00</td>\n",
       "    </tr>\n",
       "    <tr>\n",
       "      <th>532613</th>\n",
       "      <td>Эстус</td>\n",
       "      <td>-308.22</td>\n",
       "      <td>1.070078</td>\n",
       "      <td>None</td>\n",
       "      <td>2216-07-20 22:16:00</td>\n",
       "    </tr>\n",
       "    <tr>\n",
       "      <th>585644</th>\n",
       "      <td>Целебные травы</td>\n",
       "      <td>-4999.77</td>\n",
       "      <td>0.683374</td>\n",
       "      <td>None</td>\n",
       "      <td>2217-04-29 11:45:00</td>\n",
       "    </tr>\n",
       "    <tr>\n",
       "      <th>620830</th>\n",
       "      <td>Целебные травы</td>\n",
       "      <td>-2534.42</td>\n",
       "      <td>0.837025</td>\n",
       "      <td>None</td>\n",
       "      <td>2217-11-09 01:48:00</td>\n",
       "    </tr>\n",
       "    <tr>\n",
       "      <th>624319</th>\n",
       "      <td>Целебные травы</td>\n",
       "      <td>-8168.97</td>\n",
       "      <td>-0.365038</td>\n",
       "      <td>None</td>\n",
       "      <td>2217-11-26 18:16:00</td>\n",
       "    </tr>\n",
       "    <tr>\n",
       "      <th>626996</th>\n",
       "      <td>Целебные травы</td>\n",
       "      <td>-5365.75</td>\n",
       "      <td>-0.139961</td>\n",
       "      <td>None</td>\n",
       "      <td>2217-12-08 13:05:00</td>\n",
       "    </tr>\n",
       "    <tr>\n",
       "      <th>642726</th>\n",
       "      <td>Эстус</td>\n",
       "      <td>-254.05</td>\n",
       "      <td>0.923122</td>\n",
       "      <td>None</td>\n",
       "      <td>2218-02-25 02:00:00</td>\n",
       "    </tr>\n",
       "    <tr>\n",
       "      <th>644367</th>\n",
       "      <td>Эстус</td>\n",
       "      <td>-5316.95</td>\n",
       "      <td>0.721659</td>\n",
       "      <td>None</td>\n",
       "      <td>2218-03-05 20:47:00</td>\n",
       "    </tr>\n",
       "    <tr>\n",
       "      <th>726463</th>\n",
       "      <td>Эстус</td>\n",
       "      <td>-7314.58</td>\n",
       "      <td>-0.295932</td>\n",
       "      <td>None</td>\n",
       "      <td>2216-08-24 08:12:00</td>\n",
       "    </tr>\n",
       "    <tr>\n",
       "      <th>733625</th>\n",
       "      <td>Эстус</td>\n",
       "      <td>-6586.28</td>\n",
       "      <td>1.407066</td>\n",
       "      <td>None</td>\n",
       "      <td>2216-09-29 13:24:00</td>\n",
       "    </tr>\n",
       "    <tr>\n",
       "      <th>754977</th>\n",
       "      <td>Эстус</td>\n",
       "      <td>-2582.66</td>\n",
       "      <td>0.624509</td>\n",
       "      <td>None</td>\n",
       "      <td>2217-01-14 15:46:00</td>\n",
       "    </tr>\n",
       "    <tr>\n",
       "      <th>772865</th>\n",
       "      <td>Эстус</td>\n",
       "      <td>-9584.21</td>\n",
       "      <td>1.006787</td>\n",
       "      <td>None</td>\n",
       "      <td>2217-04-24 08:07:00</td>\n",
       "    </tr>\n",
       "    <tr>\n",
       "      <th>779681</th>\n",
       "      <td>Эстус</td>\n",
       "      <td>-5407.74</td>\n",
       "      <td>0.776470</td>\n",
       "      <td>None</td>\n",
       "      <td>2217-05-31 15:24:00</td>\n",
       "    </tr>\n",
       "    <tr>\n",
       "      <th>805657</th>\n",
       "      <td>Эстус</td>\n",
       "      <td>-2433.89</td>\n",
       "      <td>-0.288126</td>\n",
       "      <td>None</td>\n",
       "      <td>2217-10-19 05:34:00</td>\n",
       "    </tr>\n",
       "    <tr>\n",
       "      <th>828145</th>\n",
       "      <td>Эстус</td>\n",
       "      <td>-2722.71</td>\n",
       "      <td>0.262251</td>\n",
       "      <td>None</td>\n",
       "      <td>2218-02-03 13:59:00</td>\n",
       "    </tr>\n",
       "    <tr>\n",
       "      <th>841262</th>\n",
       "      <td>Целебные травы</td>\n",
       "      <td>-6486.18</td>\n",
       "      <td>1.038594</td>\n",
       "      <td>None</td>\n",
       "      <td>2218-04-03 10:17:00</td>\n",
       "    </tr>\n",
       "    <tr>\n",
       "      <th>862585</th>\n",
       "      <td>Эстус</td>\n",
       "      <td>-4751.92</td>\n",
       "      <td>-0.497485</td>\n",
       "      <td>None</td>\n",
       "      <td>2218-07-19 19:37:00</td>\n",
       "    </tr>\n",
       "  </tbody>\n",
       "</table>\n",
       "</div>"
      ],
      "text/plain": [
       "                  product    price    amount place            datetime\n",
       "8629                Эстус -6687.99 -0.468309  None 2216-03-03 19:42:00\n",
       "31840               Эстус -4432.76  0.979284  None 2216-07-17 13:02:00\n",
       "55313      Целебные травы -3824.41  0.982179  None 2216-11-10 06:44:00\n",
       "69019      Целебные травы -7870.49  0.667009  None 2217-01-27 22:51:00\n",
       "126810              Эстус -5465.52  1.770178  None 2218-01-15 03:57:00\n",
       "142001     Целебные травы -2325.57 -0.154201  None 2218-04-01 19:46:00\n",
       "156708  Эльфийская пыльца -8389.08  0.039481  None 2218-06-24 04:34:00\n",
       "163797     Целебные травы -9468.47  0.459932  None 2218-08-10 15:22:00\n",
       "221136              Эстус -9503.95  0.840164  None 2216-11-20 23:18:00\n",
       "288767  Эльфийская пыльца -8728.50  0.545281  None 2218-03-20 15:39:00\n",
       "314902  Эльфийская пыльца -7398.48  0.690172  None 2216-01-17 04:56:00\n",
       "369181     Целебные травы -3221.72  0.932496  None 2216-11-01 22:43:00\n",
       "372697     Целебные травы -3934.48  0.168810  None 2216-11-18 22:31:00\n",
       "421663     Целебные травы -4217.20 -0.462452  None 2217-08-29 23:39:00\n",
       "480117  Эльфийская пыльца -4999.36  1.367203  None 2218-06-27 09:29:00\n",
       "493127  Эльфийская пыльца -5112.01  1.317962  None 2218-09-12 17:45:00\n",
       "520243              Эстус -4481.33  0.379223  None 2216-05-16 11:18:00\n",
       "532613              Эстус  -308.22  1.070078  None 2216-07-20 22:16:00\n",
       "585644     Целебные травы -4999.77  0.683374  None 2217-04-29 11:45:00\n",
       "620830     Целебные травы -2534.42  0.837025  None 2217-11-09 01:48:00\n",
       "624319     Целебные травы -8168.97 -0.365038  None 2217-11-26 18:16:00\n",
       "626996     Целебные травы -5365.75 -0.139961  None 2217-12-08 13:05:00\n",
       "642726              Эстус  -254.05  0.923122  None 2218-02-25 02:00:00\n",
       "644367              Эстус -5316.95  0.721659  None 2218-03-05 20:47:00\n",
       "726463              Эстус -7314.58 -0.295932  None 2216-08-24 08:12:00\n",
       "733625              Эстус -6586.28  1.407066  None 2216-09-29 13:24:00\n",
       "754977              Эстус -2582.66  0.624509  None 2217-01-14 15:46:00\n",
       "772865              Эстус -9584.21  1.006787  None 2217-04-24 08:07:00\n",
       "779681              Эстус -5407.74  0.776470  None 2217-05-31 15:24:00\n",
       "805657              Эстус -2433.89 -0.288126  None 2217-10-19 05:34:00\n",
       "828145              Эстус -2722.71  0.262251  None 2218-02-03 13:59:00\n",
       "841262     Целебные травы -6486.18  1.038594  None 2218-04-03 10:17:00\n",
       "862585              Эстус -4751.92 -0.497485  None 2218-07-19 19:37:00"
      ]
     },
     "execution_count": 77,
     "metadata": {},
     "output_type": "execute_result"
    }
   ],
   "source": [
    "df_trans[df_trans[\"price\"] <= 0]"
   ]
  },
  {
   "cell_type": "markdown",
   "metadata": {},
   "source": [
    "видим, что price отрицательный только, где нет place. Исправим.\n",
    "P.S.: гипотеза - если продукт, день одинаковые, значит и place одинаковый."
   ]
  },
  {
   "cell_type": "code",
   "execution_count": 80,
   "metadata": {},
   "outputs": [],
   "source": [
    "for i in df_trans[df_trans[\"price\"] <= 0].index:\n",
    "    if (df_trans.loc[i-1, \"product\"] == df_trans.loc[i, \"product\"]) and (df_trans.loc[i-1, \"datetime\"].strftime('%Y-%m-%d') == df_trans.loc[i, \"datetime\"].strftime('%Y-%m-%d')):\n",
    "        df_trans.loc[i, \"place\"] = df_trans.loc[i-1, \"place\"]\n",
    "        df_trans.loc[i, \"price\"] = df_trans.loc[i-1, \"price\"]\n",
    "    elif (df_trans.loc[i+1, \"product\"] == df_trans.loc[i, \"product\"]) and (df_trans.loc[i+1, \"datetime\"].strftime('%Y-%m-%d') == df_trans.loc[i, \"datetime\"].strftime('%Y-%m-%d')):\n",
    "        df_trans.loc[i, \"place\"] = df_trans.loc[i+1, \"place\"]\n",
    "        df_trans.loc[i, \"price\"] = df_trans.loc[i+1, \"price\"]"
   ]
  },
  {
   "cell_type": "code",
   "execution_count": 81,
   "metadata": {},
   "outputs": [
    {
     "data": {
      "text/html": [
       "<div>\n",
       "<style scoped>\n",
       "    .dataframe tbody tr th:only-of-type {\n",
       "        vertical-align: middle;\n",
       "    }\n",
       "\n",
       "    .dataframe tbody tr th {\n",
       "        vertical-align: top;\n",
       "    }\n",
       "\n",
       "    .dataframe thead th {\n",
       "        text-align: right;\n",
       "    }\n",
       "</style>\n",
       "<table border=\"1\" class=\"dataframe\">\n",
       "  <thead>\n",
       "    <tr style=\"text-align: right;\">\n",
       "      <th></th>\n",
       "      <th>product</th>\n",
       "      <th>price</th>\n",
       "      <th>amount</th>\n",
       "      <th>place</th>\n",
       "      <th>datetime</th>\n",
       "    </tr>\n",
       "  </thead>\n",
       "  <tbody>\n",
       "  </tbody>\n",
       "</table>\n",
       "</div>"
      ],
      "text/plain": [
       "Empty DataFrame\n",
       "Columns: [product, price, amount, place, datetime]\n",
       "Index: []"
      ]
     },
     "execution_count": 81,
     "metadata": {},
     "output_type": "execute_result"
    }
   ],
   "source": [
    "df_trans[df_trans[\"price\"] <= 0]"
   ]
  },
  {
   "cell_type": "code",
   "execution_count": 82,
   "metadata": {},
   "outputs": [
    {
     "data": {
      "image/png": "[encoded data removed]",
      "text/plain": [
       "<Figure size 640x480 with 1 Axes>"
      ]
     },
     "metadata": {},
     "output_type": "display_data"
    },
    {
     "data": {
      "image/png": "[encoded data removed]",
      "text/plain": [
       "<Figure size 640x480 with 1 Axes>"
      ]
     },
     "metadata": {},
     "output_type": "display_data"
    }
   ],
   "source": [
    "fig, ax = plt.subplots()\n",
    "for col in num_col:\n",
    "    plt.boxplot(df_trans[col], patch_artist=True)\n",
    "    plt.title(f'Boxplot for {col}')\n",
    "    plt.show()"
   ]
  },
  {
   "cell_type": "code",
   "execution_count": 88,
   "metadata": {},
   "outputs": [
    {
     "name": "stdout",
     "output_type": "stream",
     "text": [
      "<class 'pandas.core.frame.DataFrame'>\n",
      "RangeIndex: 875036 entries, 0 to 875035\n",
      "Data columns (total 5 columns):\n",
      " #   Column    Non-Null Count   Dtype         \n",
      "---  ------    --------------   -----         \n",
      " 0   product   875036 non-null  object        \n",
      " 1   price     875036 non-null  float64       \n",
      " 2   amount    875036 non-null  float64       \n",
      " 3   place     875036 non-null  object        \n",
      " 4   datetime  875036 non-null  datetime64[us]\n",
      "dtypes: datetime64[us](1), float64(2), object(2)\n",
      "memory usage: 33.4+ MB\n"
     ]
    }
   ],
   "source": [
    "df_trans.info()"
   ]
  },
  {
   "cell_type": "markdown",
   "metadata": {},
   "source": [
    "остался amount"
   ]
  },
  {
   "cell_type": "code",
   "execution_count": 89,
   "metadata": {},
   "outputs": [
    {
     "data": {
      "text/plain": [
       "0.2006306026266348"
      ]
     },
     "execution_count": 89,
     "metadata": {},
     "output_type": "execute_result"
    }
   ],
   "source": [
    "len(df_trans[df_trans[\"amount\"] < 0]) / len(df_trans)"
   ]
  },
  {
   "cell_type": "markdown",
   "metadata": {},
   "source": [
    "20% отрицательных amount..."
   ]
  },
  {
   "cell_type": "code",
   "execution_count": 90,
   "metadata": {},
   "outputs": [
    {
     "data": {
      "text/html": [
       "<div>\n",
       "<style scoped>\n",
       "    .dataframe tbody tr th:only-of-type {\n",
       "        vertical-align: middle;\n",
       "    }\n",
       "\n",
       "    .dataframe tbody tr th {\n",
       "        vertical-align: top;\n",
       "    }\n",
       "\n",
       "    .dataframe thead th {\n",
       "        text-align: right;\n",
       "    }\n",
       "</style>\n",
       "<table border=\"1\" class=\"dataframe\">\n",
       "  <thead>\n",
       "    <tr style=\"text-align: right;\">\n",
       "      <th></th>\n",
       "      <th>product</th>\n",
       "      <th>price</th>\n",
       "      <th>amount</th>\n",
       "      <th>place</th>\n",
       "      <th>datetime</th>\n",
       "    </tr>\n",
       "  </thead>\n",
       "  <tbody>\n",
       "    <tr>\n",
       "      <th>1</th>\n",
       "      <td>Целебные травы</td>\n",
       "      <td>3.90</td>\n",
       "      <td>-0.079689</td>\n",
       "      <td>Анор Лондо</td>\n",
       "      <td>2216-01-02 16:21:00</td>\n",
       "    </tr>\n",
       "    <tr>\n",
       "      <th>14</th>\n",
       "      <td>Целебные травы</td>\n",
       "      <td>3.90</td>\n",
       "      <td>-0.026968</td>\n",
       "      <td>Анор Лондо</td>\n",
       "      <td>2216-01-02 09:32:00</td>\n",
       "    </tr>\n",
       "    <tr>\n",
       "      <th>16</th>\n",
       "      <td>Целебные травы</td>\n",
       "      <td>3.90</td>\n",
       "      <td>-0.181400</td>\n",
       "      <td>Анор Лондо</td>\n",
       "      <td>2216-01-02 03:52:00</td>\n",
       "    </tr>\n",
       "    <tr>\n",
       "      <th>22</th>\n",
       "      <td>Целебные травы</td>\n",
       "      <td>3.90</td>\n",
       "      <td>-0.209384</td>\n",
       "      <td>Анор Лондо</td>\n",
       "      <td>2216-01-02 14:22:00</td>\n",
       "    </tr>\n",
       "    <tr>\n",
       "      <th>27</th>\n",
       "      <td>Целебные травы</td>\n",
       "      <td>3.90</td>\n",
       "      <td>-0.302981</td>\n",
       "      <td>Анор Лондо</td>\n",
       "      <td>2216-01-02 04:20:00</td>\n",
       "    </tr>\n",
       "    <tr>\n",
       "      <th>...</th>\n",
       "      <td>...</td>\n",
       "      <td>...</td>\n",
       "      <td>...</td>\n",
       "      <td>...</td>\n",
       "      <td>...</td>\n",
       "    </tr>\n",
       "    <tr>\n",
       "      <th>875019</th>\n",
       "      <td>Эстус</td>\n",
       "      <td>9.28</td>\n",
       "      <td>-0.139451</td>\n",
       "      <td>Фалькония</td>\n",
       "      <td>2218-09-27 18:30:00</td>\n",
       "    </tr>\n",
       "    <tr>\n",
       "      <th>875021</th>\n",
       "      <td>Эстус</td>\n",
       "      <td>9.28</td>\n",
       "      <td>-0.287133</td>\n",
       "      <td>Фалькония</td>\n",
       "      <td>2218-09-27 17:49:00</td>\n",
       "    </tr>\n",
       "    <tr>\n",
       "      <th>875027</th>\n",
       "      <td>Эстус</td>\n",
       "      <td>9.28</td>\n",
       "      <td>-0.006291</td>\n",
       "      <td>Фалькония</td>\n",
       "      <td>2218-09-27 23:25:00</td>\n",
       "    </tr>\n",
       "    <tr>\n",
       "      <th>875029</th>\n",
       "      <td>Эстус</td>\n",
       "      <td>9.28</td>\n",
       "      <td>-0.187556</td>\n",
       "      <td>Фалькония</td>\n",
       "      <td>2218-09-27 23:02:00</td>\n",
       "    </tr>\n",
       "    <tr>\n",
       "      <th>875030</th>\n",
       "      <td>Эстус</td>\n",
       "      <td>9.28</td>\n",
       "      <td>-0.026184</td>\n",
       "      <td>Фалькония</td>\n",
       "      <td>2218-09-27 23:32:00</td>\n",
       "    </tr>\n",
       "  </tbody>\n",
       "</table>\n",
       "<p>175559 rows × 5 columns</p>\n",
       "</div>"
      ],
      "text/plain": [
       "               product  price    amount       place            datetime\n",
       "1       Целебные травы   3.90 -0.079689  Анор Лондо 2216-01-02 16:21:00\n",
       "14      Целебные травы   3.90 -0.026968  Анор Лондо 2216-01-02 09:32:00\n",
       "16      Целебные травы   3.90 -0.181400  Анор Лондо 2216-01-02 03:52:00\n",
       "22      Целебные травы   3.90 -0.209384  Анор Лондо 2216-01-02 14:22:00\n",
       "27      Целебные травы   3.90 -0.302981  Анор Лондо 2216-01-02 04:20:00\n",
       "...                ...    ...       ...         ...                 ...\n",
       "875019           Эстус   9.28 -0.139451   Фалькония 2218-09-27 18:30:00\n",
       "875021           Эстус   9.28 -0.287133   Фалькония 2218-09-27 17:49:00\n",
       "875027           Эстус   9.28 -0.006291   Фалькония 2218-09-27 23:25:00\n",
       "875029           Эстус   9.28 -0.187556   Фалькония 2218-09-27 23:02:00\n",
       "875030           Эстус   9.28 -0.026184   Фалькония 2218-09-27 23:32:00\n",
       "\n",
       "[175559 rows x 5 columns]"
      ]
     },
     "execution_count": 90,
     "metadata": {},
     "output_type": "execute_result"
    }
   ],
   "source": [
    "df_trans[df_trans[\"amount\"] < 0]"
   ]
  },
  {
   "cell_type": "markdown",
   "metadata": {},
   "source": [
    "Исходя из данных, я не нашел методов подсчета amount, однако у меня появилась гипотеза: а вдруг, отрицательный amount - возврат в унциях данного товара, поэтому, возможно, это не аномалия, а вполне адекватное число...\n",
    "Поэтому я пришел к выводу: сделать два датасета:\n",
    "- С отрицательным amount\n",
    "- Без оттрицательного amount"
   ]
  },
  {
   "cell_type": "code",
   "execution_count": 92,
   "metadata": {},
   "outputs": [],
   "source": [
    "df_trans.to_parquet(\"../../data/df_end_transaction_ma.parquet\")\n",
    "df_trans[df_trans[\"amount\"] >= 0].to_parquet(\"../../data/df_end_transaction.parquet\")"
   ]
  }
 ],
 "metadata": {
  "kernelspec": {
   "display_name": "Python 3",
   "language": "python",
   "name": "python3"
  },
  "language_info": {
   "codemirror_mode": {
    "name": "ipython",
    "version": 3
   },
   "file_extension": ".py",
   "mimetype": "text/x-python",
   "name": "python",
   "nbconvert_exporter": "python",
   "pygments_lexer": "ipython3",
   "version": "3.10.12"
  }
 },
 "nbformat": 4,
 "nbformat_minor": 2
}
